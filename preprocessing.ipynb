{
 "cells": [
  {
   "cell_type": "markdown",
   "metadata": {},
   "source": [
    "# dependencies"
   ]
  },
  {
   "cell_type": "code",
   "execution_count": 168,
   "metadata": {},
   "outputs": [],
   "source": [
    "class_dict = {'car': 0, 'head': 1, 'face': 2, 'human': 3, 'carplate': 4}\n",
    "# class x_center y_center width height"
   ]
  },
  {
   "cell_type": "code",
   "execution_count": 1,
   "metadata": {
    "colab": {
     "base_uri": "https://localhost:8080/"
    },
    "id": "VkOJXFmilOMb",
    "outputId": "842c134f-435f-4093-b6ab-372fd6c01767"
   },
   "outputs": [],
   "source": [
    "import os\n",
    "import shutil\n",
    "import pandas as pd\n",
    "from sklearn.model_selection import train_test_split\n",
    "import pandas as pd\n",
    "import random\n",
    "from tqdm import tqdm\n",
    "\n",
    "import numpy as np\n",
    "import cv2\n",
    "import matplotlib.pyplot as plt"
   ]
  },
  {
   "cell_type": "markdown",
   "metadata": {},
   "source": [
    "# процессинг"
   ]
  },
  {
   "cell_type": "code",
   "execution_count": null,
   "metadata": {},
   "outputs": [
    {
     "data": {
      "text/plain": [
       "855"
      ]
     },
     "execution_count": 173,
     "metadata": {},
     "output_type": "execute_result"
    }
   ],
   "source": [
    "len(os.listdir('test/images'))"
   ]
  },
  {
   "cell_type": "code",
   "execution_count": null,
   "metadata": {},
   "outputs": [
    {
     "data": {
      "text/plain": [
       "2002"
      ]
     },
     "execution_count": 174,
     "metadata": {},
     "output_type": "execute_result"
    }
   ],
   "source": [
    "len(os.listdir('train/images'))"
   ]
  },
  {
   "cell_type": "code",
   "execution_count": 175,
   "metadata": {
    "colab": {
     "base_uri": "https://localhost:8080/"
    },
    "id": "bOBWZga29_c4",
    "outputId": "ee0d5399-2167-4566-e02f-a89803149b99"
   },
   "outputs": [
    {
     "data": {
      "text/plain": [
       "head..txt        1741\n",
       "human..txt       1740\n",
       "car..txt         1647\n",
       "face..txt         630\n",
       "carplate..txt     246\n",
       "dtype: int64"
      ]
     },
     "execution_count": 175,
     "metadata": {},
     "output_type": "execute_result"
    }
   ],
   "source": [
    "#распределение объектов в train\n",
    "pd.Series([file_name.split('_')[-1] for file_name in os.listdir('train/labels')]).value_counts()"
   ]
  },
  {
   "cell_type": "code",
   "execution_count": 176,
   "metadata": {},
   "outputs": [
    {
     "data": {
      "text/plain": [
       "{'car': 0, 'head': 1, 'face': 2, 'human': 3, 'carplate': 4}"
      ]
     },
     "execution_count": 176,
     "metadata": {},
     "output_type": "execute_result"
    }
   ],
   "source": [
    "class_dict"
   ]
  },
  {
   "cell_type": "code",
   "execution_count": 177,
   "metadata": {},
   "outputs": [],
   "source": [
    "unique_files = list(set(['_'.join(file_name.split('_')[:-1]) for file_name in os.listdir('train/labels')]))"
   ]
  },
  {
   "cell_type": "code",
   "execution_count": 178,
   "metadata": {
    "tags": []
   },
   "outputs": [],
   "source": [
    "for unfile in tqdm(unique_files):\n",
    "    \n",
    "    text_ = ''\n",
    "    \n",
    "    for file_name in os.listdir('train/labels'):\n",
    "        \n",
    "        if unfile in file_name:\n",
    "    \n",
    "            file = '_'.join(file_name.split('_')[:-1])\n",
    "            label = file_name.split('_')[-1].split('..')[0]\n",
    "            class_ = class_dict[label]\n",
    "            \n",
    "            with open('train/labels/'+file_name, 'r') as f:\n",
    "                text = f.read()\n",
    "            \n",
    "            for x in text.split('\\n')[:-1]:\n",
    "                x_ = x.split(' ')\n",
    "                x_[0] = str(class_)\n",
    "                \n",
    "                text_ += ' '.join(x_) + '\\n'\n",
    "                \n",
    "    text_ = text_[:-1]\n",
    "    \n",
    "    with open('train/labels_processed/'+unfile+'.txt', 'w') as f:\n",
    "        f.write(text_)"
   ]
  },
  {
   "cell_type": "code",
   "execution_count": 12,
   "metadata": {},
   "outputs": [
    {
     "name": "stdout",
     "output_type": "stream",
     "text": [
      "train: 246, 1756\n",
      "test: 111, 744\n"
     ]
    }
   ],
   "source": [
    "train_files = os.listdir('train/images')\n",
    "train_files_small = [x for x in train_files if '_' in x.split('-')[0]]\n",
    "train_files_large = [x for x in train_files if '_' not in x.split('-')[0]]\n",
    "print(f'train: {len(train_files_small)}, {len(train_files_large)}')\n",
    "\n",
    "test_files = os.listdir('test/images')\n",
    "test_files_small = [x for x in test_files if '_' in x.split('-')[0]]\n",
    "test_files_large = [x for x in test_files if '_' not in x.split('-')[0]]\n",
    "print(f'test: {len(test_files_small)}, {len(test_files_large)}')"
   ]
  },
  {
   "cell_type": "markdown",
   "metadata": {},
   "source": [
    "# подготовка сабмишена"
   ]
  },
  {
   "cell_type": "code",
   "execution_count": 40,
   "metadata": {},
   "outputs": [],
   "source": [
    "import pandas as pd\n",
    "import numpy as np\n",
    "import os"
   ]
  },
  {
   "cell_type": "code",
   "execution_count": 77,
   "metadata": {},
   "outputs": [],
   "source": [
    "# Предыдущий лучший\n",
    "# solution-best-yolov7-w6-custom-small-images-640-multiscale.csv\n",
    "# solution-best-yolov7-w6-custom-large_images-1920-iou05.csv"
   ]
  },
  {
   "cell_type": "code",
   "execution_count": 63,
   "metadata": {},
   "outputs": [
    {
     "name": "stdout",
     "output_type": "stream",
     "text": [
      "test: 111, 744\n"
     ]
    }
   ],
   "source": [
    "# Текущий лучший\n",
    "sub_small = pd.read_csv('solution-best-yolov7-w6-custom-small-images-640-multiscale.csv', sep=';')\n",
    "sub_large = pd.read_csv('solution-best-yolov7-e6-custom-large-images-1920.csv', sep=';')\n",
    "\n",
    "test_files = os.listdir('test/images')\n",
    "test_files_small = [x for x in test_files if '_' in x.split('-')[0]]\n",
    "test_files_large = [x for x in test_files if '_' not in x.split('-')[0]]\n",
    "print(f'test: {len(test_files_small)}, {len(test_files_large)}')"
   ]
  },
  {
   "cell_type": "code",
   "execution_count": 64,
   "metadata": {},
   "outputs": [],
   "source": [
    "sub_small['LabelName'] = 4"
   ]
  },
  {
   "cell_type": "code",
   "execution_count": 65,
   "metadata": {},
   "outputs": [],
   "source": [
    "sub_large = sub_large[sub_large.ImageID.isin(test_files_large)]\n",
    "\n",
    "sub_small = sub_small[sub_small.LabelName == 4]\n",
    "sub_small = sub_small[sub_small.ImageID.isin(test_files_small)]"
   ]
  },
  {
   "cell_type": "code",
   "execution_count": 66,
   "metadata": {},
   "outputs": [],
   "source": [
    "sub_small = sub_small.sort_values('Conf', ascending=False).drop_duplicates('ImageID', keep='first')"
   ]
  },
  {
   "cell_type": "code",
   "execution_count": 67,
   "metadata": {},
   "outputs": [
    {
     "data": {
      "text/plain": [
       "0.20752"
      ]
     },
     "execution_count": 67,
     "metadata": {},
     "output_type": "execute_result"
    }
   ],
   "source": [
    "sub_small.Conf.min()"
   ]
  },
  {
   "cell_type": "code",
   "execution_count": 68,
   "metadata": {},
   "outputs": [
    {
     "data": {
      "text/html": [
       "<div>\n",
       "<style scoped>\n",
       "    .dataframe tbody tr th:only-of-type {\n",
       "        vertical-align: middle;\n",
       "    }\n",
       "\n",
       "    .dataframe tbody tr th {\n",
       "        vertical-align: top;\n",
       "    }\n",
       "\n",
       "    .dataframe thead th {\n",
       "        text-align: right;\n",
       "    }\n",
       "</style>\n",
       "<table border=\"1\" class=\"dataframe\">\n",
       "  <thead>\n",
       "    <tr style=\"text-align: right;\">\n",
       "      <th></th>\n",
       "      <th>ImageID</th>\n",
       "      <th>LabelName</th>\n",
       "      <th>Conf</th>\n",
       "      <th>XMin</th>\n",
       "      <th>XMax</th>\n",
       "      <th>YMin</th>\n",
       "      <th>YMax</th>\n",
       "    </tr>\n",
       "  </thead>\n",
       "  <tbody>\n",
       "    <tr>\n",
       "      <th>2477</th>\n",
       "      <td>0_26-11-2021_10-11-18_AM.jpg</td>\n",
       "      <td>4</td>\n",
       "      <td>0.987793</td>\n",
       "      <td>0.075819</td>\n",
       "      <td>0.178279</td>\n",
       "      <td>0.652985</td>\n",
       "      <td>0.731343</td>\n",
       "    </tr>\n",
       "    <tr>\n",
       "      <th>29903</th>\n",
       "      <td>0_25-11-2021_10-03-50_AM.jpg</td>\n",
       "      <td>4</td>\n",
       "      <td>0.981445</td>\n",
       "      <td>0.058632</td>\n",
       "      <td>0.164495</td>\n",
       "      <td>0.760737</td>\n",
       "      <td>0.861963</td>\n",
       "    </tr>\n",
       "    <tr>\n",
       "      <th>50151</th>\n",
       "      <td>0_24-11-2021_01-12-29_PM.jpg</td>\n",
       "      <td>4</td>\n",
       "      <td>0.981445</td>\n",
       "      <td>0.805883</td>\n",
       "      <td>0.913725</td>\n",
       "      <td>0.613822</td>\n",
       "      <td>0.719512</td>\n",
       "    </tr>\n",
       "    <tr>\n",
       "      <th>661</th>\n",
       "      <td>0_23-11-2021_09-28-25_PM.jpg</td>\n",
       "      <td>4</td>\n",
       "      <td>0.975586</td>\n",
       "      <td>0.780142</td>\n",
       "      <td>0.900710</td>\n",
       "      <td>0.579269</td>\n",
       "      <td>0.701219</td>\n",
       "    </tr>\n",
       "    <tr>\n",
       "      <th>47555</th>\n",
       "      <td>2_24-11-2021_10-14-19_AM.jpg</td>\n",
       "      <td>4</td>\n",
       "      <td>0.975098</td>\n",
       "      <td>0.801961</td>\n",
       "      <td>0.911765</td>\n",
       "      <td>0.560150</td>\n",
       "      <td>0.661654</td>\n",
       "    </tr>\n",
       "    <tr>\n",
       "      <th>...</th>\n",
       "      <td>...</td>\n",
       "      <td>...</td>\n",
       "      <td>...</td>\n",
       "      <td>...</td>\n",
       "      <td>...</td>\n",
       "      <td>...</td>\n",
       "      <td>...</td>\n",
       "    </tr>\n",
       "    <tr>\n",
       "      <th>43463</th>\n",
       "      <td>0_23-11-2021_05-55-18_PM.jpg</td>\n",
       "      <td>4</td>\n",
       "      <td>0.816406</td>\n",
       "      <td>0.388889</td>\n",
       "      <td>0.682540</td>\n",
       "      <td>0.942653</td>\n",
       "      <td>0.980287</td>\n",
       "    </tr>\n",
       "    <tr>\n",
       "      <th>13233</th>\n",
       "      <td>0_26-11-2021_08-41-30_AM.jpg</td>\n",
       "      <td>4</td>\n",
       "      <td>0.813965</td>\n",
       "      <td>0.367089</td>\n",
       "      <td>0.753165</td>\n",
       "      <td>0.591836</td>\n",
       "      <td>0.698979</td>\n",
       "    </tr>\n",
       "    <tr>\n",
       "      <th>24922</th>\n",
       "      <td>0_25-11-2021_01-59-46_AM.jpg</td>\n",
       "      <td>4</td>\n",
       "      <td>0.813965</td>\n",
       "      <td>0.551219</td>\n",
       "      <td>0.729269</td>\n",
       "      <td>0.802272</td>\n",
       "      <td>0.968182</td>\n",
       "    </tr>\n",
       "    <tr>\n",
       "      <th>49760</th>\n",
       "      <td>1_26-11-2021_07-47-11_AM.jpg</td>\n",
       "      <td>4</td>\n",
       "      <td>0.662109</td>\n",
       "      <td>0.861111</td>\n",
       "      <td>0.964815</td>\n",
       "      <td>0.547619</td>\n",
       "      <td>0.735119</td>\n",
       "    </tr>\n",
       "    <tr>\n",
       "      <th>64681</th>\n",
       "      <td>0_24-11-2021_03-59-43_AM.jpg</td>\n",
       "      <td>4</td>\n",
       "      <td>0.207520</td>\n",
       "      <td>0.324325</td>\n",
       "      <td>0.655405</td>\n",
       "      <td>0.743055</td>\n",
       "      <td>0.826389</td>\n",
       "    </tr>\n",
       "  </tbody>\n",
       "</table>\n",
       "<p>111 rows × 7 columns</p>\n",
       "</div>"
      ],
      "text/plain": [
       "                            ImageID  LabelName      Conf      XMin      XMax  \\\n",
       "2477   0_26-11-2021_10-11-18_AM.jpg          4  0.987793  0.075819  0.178279   \n",
       "29903  0_25-11-2021_10-03-50_AM.jpg          4  0.981445  0.058632  0.164495   \n",
       "50151  0_24-11-2021_01-12-29_PM.jpg          4  0.981445  0.805883  0.913725   \n",
       "661    0_23-11-2021_09-28-25_PM.jpg          4  0.975586  0.780142  0.900710   \n",
       "47555  2_24-11-2021_10-14-19_AM.jpg          4  0.975098  0.801961  0.911765   \n",
       "...                             ...        ...       ...       ...       ...   \n",
       "43463  0_23-11-2021_05-55-18_PM.jpg          4  0.816406  0.388889  0.682540   \n",
       "13233  0_26-11-2021_08-41-30_AM.jpg          4  0.813965  0.367089  0.753165   \n",
       "24922  0_25-11-2021_01-59-46_AM.jpg          4  0.813965  0.551219  0.729269   \n",
       "49760  1_26-11-2021_07-47-11_AM.jpg          4  0.662109  0.861111  0.964815   \n",
       "64681  0_24-11-2021_03-59-43_AM.jpg          4  0.207520  0.324325  0.655405   \n",
       "\n",
       "           YMin      YMax  \n",
       "2477   0.652985  0.731343  \n",
       "29903  0.760737  0.861963  \n",
       "50151  0.613822  0.719512  \n",
       "661    0.579269  0.701219  \n",
       "47555  0.560150  0.661654  \n",
       "...         ...       ...  \n",
       "43463  0.942653  0.980287  \n",
       "13233  0.591836  0.698979  \n",
       "24922  0.802272  0.968182  \n",
       "49760  0.547619  0.735119  \n",
       "64681  0.743055  0.826389  \n",
       "\n",
       "[111 rows x 7 columns]"
      ]
     },
     "execution_count": 68,
     "metadata": {},
     "output_type": "execute_result"
    }
   ],
   "source": [
    "sub_small"
   ]
  },
  {
   "cell_type": "code",
   "execution_count": 69,
   "metadata": {},
   "outputs": [],
   "source": [
    "sub_small.Conf = np.clip(sub_small.Conf, 0.8, 1)"
   ]
  },
  {
   "cell_type": "code",
   "execution_count": 70,
   "metadata": {},
   "outputs": [],
   "source": [
    "sub_large = sub_large[sub_large.Conf > 0.25]"
   ]
  },
  {
   "cell_type": "code",
   "execution_count": 71,
   "metadata": {},
   "outputs": [],
   "source": [
    "sub = pd.concat([sub_small, sub_large])"
   ]
  },
  {
   "cell_type": "code",
   "execution_count": 72,
   "metadata": {},
   "outputs": [],
   "source": [
    "sub.to_csv('solution-best-yolov7-e6-custom-large_1920-small_640_multiscale-iou05-conf025.csv', index=False, sep=';')"
   ]
  },
  {
   "cell_type": "code",
   "execution_count": 73,
   "metadata": {},
   "outputs": [
    {
     "data": {
      "text/plain": [
       "111"
      ]
     },
     "execution_count": 73,
     "metadata": {},
     "output_type": "execute_result"
    }
   ],
   "source": [
    "sub[(sub.ImageID.isin(test_files_small))].ImageID.count()"
   ]
  },
  {
   "cell_type": "code",
   "execution_count": 74,
   "metadata": {},
   "outputs": [
    {
     "data": {
      "text/plain": [
       "744"
      ]
     },
     "execution_count": 74,
     "metadata": {},
     "output_type": "execute_result"
    }
   ],
   "source": [
    "sub[(sub.ImageID.isin(test_files_large))].ImageID.nunique()"
   ]
  },
  {
   "cell_type": "code",
   "execution_count": 75,
   "metadata": {},
   "outputs": [
    {
     "data": {
      "text/plain": [
       "4    111\n",
       "Name: LabelName, dtype: int64"
      ]
     },
     "execution_count": 75,
     "metadata": {},
     "output_type": "execute_result"
    }
   ],
   "source": [
    "sub[(sub.ImageID.isin(test_files_small))].LabelName.value_counts()"
   ]
  },
  {
   "cell_type": "code",
   "execution_count": 76,
   "metadata": {},
   "outputs": [
    {
     "data": {
      "text/plain": [
       "0    8000\n",
       "3    2170\n",
       "1    2030\n",
       "2     409\n",
       "4      26\n",
       "Name: LabelName, dtype: int64"
      ]
     },
     "execution_count": 76,
     "metadata": {},
     "output_type": "execute_result"
    }
   ],
   "source": [
    "sub[(sub.ImageID.isin(test_files_large))].LabelName.value_counts()"
   ]
  }
 ],
 "metadata": {
  "accelerator": "GPU",
  "colab": {
   "collapsed_sections": [],
   "name": "baseline.ipynb",
   "provenance": []
  },
  "gpuClass": "standard",
  "kernelspec": {
   "display_name": "Python 3 (ipykernel)",
   "language": "python",
   "name": "python3"
  },
  "language_info": {
   "codemirror_mode": {
    "name": "ipython",
    "version": 3
   },
   "file_extension": ".py",
   "mimetype": "text/x-python",
   "name": "python",
   "nbconvert_exporter": "python",
   "pygments_lexer": "ipython3",
   "version": "3.9.5"
  }
 },
 "nbformat": 4,
 "nbformat_minor": 4
}
